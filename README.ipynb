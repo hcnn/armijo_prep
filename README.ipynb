{
 "cells": [
  {
   "cell_type": "markdown",
   "metadata": {},
   "source": [
    "### Parameter Update\n",
    "Let $k \\in \\mathbb{N}^+$ the $k$ iteration of an parent optimization problem,\n",
    "$x_k \\in \\mathbb{R}^n$ its free parameters,\n",
    "$r_k \\in \\mathbb{R}^n$ the search or change direction,\n",
    "and $\\alpha_k \\in \\{ \\alpha \\in \\mathbb{R} | \\alpha>0\\}$ the optimal step width of a line search algorithm. \n",
    "The next parameter update $u_k \\in \\mathbb{R}^n$ is\n",
    "\n",
    "$$\n",
    "u_k = x_{k+1} - x_k = \\alpha_k \\, r_k\n",
    "$$"
   ]
  },
  {
   "cell_type": "markdown",
   "metadata": {},
   "source": [
    "### Line Search Problem\n",
    "Let $f$ the target function subject to minimization, \n",
    "then the optimal $\\alpha_k$ of the $k$-th iteration (of the parent optimization problem) is determined by line search optimization problem as follow\n",
    "\n",
    "$$\n",
    "\\alpha_k = \\arg\\min_\\alpha \\, f(x_k + \\alpha\\, r_k)\n",
    "$$\n",
    "\n",
    "An $k$-th variables (e.g. variable $x_k$, change direction $r_k$, gradient $g_k$, etc.) are constant inputs in a line search solver. In the following the $k$-th subscripts are removed because they are just not relevant for line search."
   ]
  },
  {
   "cell_type": "markdown",
   "metadata": {},
   "source": [
    "### Armijo Condition (1st Wolfe Condition)\n",
    "The variables $x \\in \\mathbb{R}^n$, \n",
    "its gradients $g \\in \\mathbb{R}^n$ (i.e. $g = \\nabla f(x)$),\n",
    "the change of direction $r \\in \\mathbb{R}^n$,\n",
    "and the scaling factor $\\gamma \\in \\{ c \\in \\mathbb{R} | 0 < c < 1\\}$ (hyperparameter)\n",
    "are the input parameters of the Armijo condition\n",
    "\n",
    "$$\n",
    "f(x + \\alpha_i\\, r) < f(x) + \\gamma \\, \\alpha_i \\, g^T \\, r\n",
    "$$\n"
   ]
  },
  {
   "cell_type": "markdown",
   "metadata": {},
   "source": [
    "### Descent Direction\n",
    "The term $\\gamma \\, \\alpha \\, g^T r$ must be negative because $g^T r$ must have a **descent direction**\n",
    "\n",
    "$$\n",
    "g^T r < 0\n",
    "$$\n",
    "\n",
    "If $g^T r > 0$ then the new $f(x+\\alpha_i r)$ might be worse than given $f(x)$ and keep iterating down this wrong path."
   ]
  },
  {
   "cell_type": "markdown",
   "metadata": {},
   "source": [
    "### It's a variable tolerance\n",
    "The term $\\gamma \\alpha g^T r$ is a kind of variable tolerance $VarTol(\\alpha)$\n",
    "\n",
    "$$\n",
    "-VarTol(\\alpha) = \\gamma \\, \\alpha \\, g^T r \\\\\n",
    "f(x + \\alpha\\, r) < f(x) - VarTol(\\alpha) \\\\\n",
    "f(x + \\alpha\\, r) + VarTol(\\alpha) < f(x) \n",
    "$$\n",
    "\n",
    "and the line search algorithm will stop if \n",
    "\n",
    "$$\n",
    "f(x + \\alpha\\, r) + VarTol(\\alpha) \\geq f(x)\n",
    "$$\n",
    "\n",
    "is true \n",
    "what is similar to the stopping criteria of gradient descent (see [stopping_gd](https://github.com/hcnn/stopping_gd/blob/master/README.ipynb)).\n",
    "\n",
    "In order to ensure that $VarTol(\\alpha) \\geq 0$ \n",
    "Positive  can be avoided by preprocessing\n",
    "\n",
    "$$\n",
    "VarTol(\\alpha) = - \\gamma \\, \\alpha \\, \\min(0, g^T r)\n",
    "$$\n",
    "\n",
    "To ensure $VarTol(\\alpha)>0$ (or avoid $VarTol(\\alpha)=0$)\n",
    "use $TolDir>0$\n",
    "\n",
    "$$\n",
    "VarTol(\\alpha) = - \\gamma \\, \\alpha \\, \\min(-TolDir, g^T r) \\\\\n",
    "VarTol(\\alpha) = \\gamma \\, \\alpha \\, \\max(TolDir, -g^T r)\n",
    "$$\n",
    "\n",
    "I suggest to use $TolDir = 10^{-8} / \\gamma$. "
   ]
  },
  {
   "cell_type": "markdown",
   "metadata": {},
   "source": [
    "### armijo_prep\n",
    "The function `armijo_prep` will preprocess the value\n",
    "\n",
    "$$\n",
    "{\\rm ggr} = \\gamma \\, \\max(TolDir, -g^T r)\n",
    "$$\n",
    "\n",
    "that can be used to compute \n",
    "\n",
    "$$\n",
    "VarTol(\\alpha) = \\alpha \\cdot {\\rm ggr} \n",
    "$$\n",
    "\n",
    "during line search"
   ]
  }
 ],
 "metadata": {
  "kernelspec": {
   "display_name": "C",
   "language": "c",
   "name": "c"
  },
  "language_info": {
   "file_extension": ".c",
   "mimetype": "text/plain",
   "name": "c"
  },
  "toc": {
   "base_numbering": 1,
   "nav_menu": {},
   "number_sections": true,
   "sideBar": true,
   "skip_h1_title": false,
   "title_cell": "Table of Contents",
   "title_sidebar": "Contents",
   "toc_cell": false,
   "toc_position": {},
   "toc_section_display": true,
   "toc_window_display": false
  },
  "varInspector": {
   "cols": {
    "lenName": 16,
    "lenType": 16,
    "lenVar": 40
   },
   "kernels_config": {
    "python": {
     "delete_cmd_postfix": "",
     "delete_cmd_prefix": "del ",
     "library": "var_list.py",
     "varRefreshCmd": "print(var_dic_list())"
    },
    "r": {
     "delete_cmd_postfix": ") ",
     "delete_cmd_prefix": "rm(",
     "library": "var_list.r",
     "varRefreshCmd": "cat(var_dic_list()) "
    }
   },
   "types_to_exclude": [
    "module",
    "function",
    "builtin_function_or_method",
    "instance",
    "_Feature"
   ],
   "window_display": false
  }
 },
 "nbformat": 4,
 "nbformat_minor": 2
}
